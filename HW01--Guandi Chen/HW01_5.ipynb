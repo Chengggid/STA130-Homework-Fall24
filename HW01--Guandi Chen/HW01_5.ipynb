{
 "cells": [
  {
   "cell_type": "markdown",
   "id": "96f968eb",
   "metadata": {},
   "source": [
    "An anttribute illustrates a kind of value which is related to the object you want to know, which will not include calculations at all."
   ]
  },
  {
   "cell_type": "markdown",
   "id": "86f17361",
   "metadata": {},
   "source": [
    "A method is a kind of function in Python, which you can use it to make calculations. You need tou use parentheses when using methods because they are operating functions."
   ]
  },
  {
   "cell_type": "markdown",
   "id": "2bd97cec",
   "metadata": {},
   "source": [
    "Transcript with Chatgpt--https://chatgpt.com/c/66e0c17f-b938-800a-aeea-4f28e8f9abac"
   ]
  }
 ],
 "metadata": {
  "kernelspec": {
   "display_name": "Python 3 (ipykernel)",
   "language": "python",
   "name": "python3"
  },
  "language_info": {
   "codemirror_mode": {
    "name": "ipython",
    "version": 3
   },
   "file_extension": ".py",
   "mimetype": "text/x-python",
   "name": "python",
   "nbconvert_exporter": "python",
   "pygments_lexer": "ipython3",
   "version": "3.11.6"
  }
 },
 "nbformat": 4,
 "nbformat_minor": 5
}

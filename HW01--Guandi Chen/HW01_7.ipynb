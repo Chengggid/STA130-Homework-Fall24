{
 "cells": [
  {
   "cell_type": "markdown",
   "id": "af1027b1",
   "metadata": {},
   "source": [
    "1. If you are analyzing a dataset and some data in some different rows are missing, for example, a dataset of a survey of the amount of debt people are holding and some people don't have any debt. So you prefer to use df.dropna() to delete the rows to keep other useful data."
   ]
  },
  {
   "cell_type": "markdown",
   "id": "0cc2a372",
   "metadata": {},
   "source": [
    "2. If you are analyzing a dataset and a lot of data in one name are missing. For example, you are summarizing the information of your clients, but unfortunately most information of your clients' age are invisible. So you prefer to use del df['col'] to delete useless column."
   ]
  },
  {
   "cell_type": "markdown",
   "id": "b026286e",
   "metadata": {},
   "source": [
    "3. Using del df['col'] before df.dropna() will potentially help you not delete other useful data in rows."
   ]
  },
  {
   "cell_type": "markdown",
   "id": "cc7c84d0",
   "metadata": {},
   "source": [
    "4"
   ]
  },
  {
   "cell_type": "code",
   "execution_count": 1,
   "id": "2a0af58e",
   "metadata": {},
   "outputs": [
    {
     "name": "stdout",
     "output_type": "stream",
     "text": [
      "Before Cleanup:\n",
      "      Name   Age                Email     Phone\n",
      "0    Alice  25.0    alice@example.com      None\n",
      "1      Bob   NaN                 None      None\n",
      "2  Charlie  30.0  charlie@example.com  555-1234\n",
      "3    David   NaN    david@example.com      None\n",
      "4      Eve  45.0                 None  555-6789\n"
     ]
    }
   ],
   "source": [
    "import pandas as pd\n",
    "\n",
    "data = {'Name': ['Alice', 'Bob', 'Charlie', 'David', 'Eve'],\n",
    "        'Age': [25, None, 30, None, 45],\n",
    "        'Email': ['alice@example.com', None, 'charlie@example.com', 'david@example.com', None],\n",
    "        'Phone': [None, None, '555-1234', None, '555-6789']}\n",
    "\n",
    "df = pd.DataFrame(data)\n",
    "print(\"Before Cleanup:\")\n",
    "print(df)\n"
   ]
  },
  {
   "cell_type": "markdown",
   "id": "005d990a",
   "metadata": {},
   "source": [
    "Before Approach: There are 3 data missing for 'Phone' column, two for 'Email' and two for 'Age'. Alice misses 1/3. Bob misses 3/3. Charlie misses 0/3. David misses 2/3. Eve misses 1/3."
   ]
  },
  {
   "cell_type": "code",
   "execution_count": 2,
   "id": "124e80fc",
   "metadata": {},
   "outputs": [
    {
     "name": "stdout",
     "output_type": "stream",
     "text": [
      "\n",
      "After Cleanup:\n",
      "      Name   Age                Email\n",
      "0    Alice  25.0    alice@example.com\n",
      "2  Charlie  30.0  charlie@example.com\n"
     ]
    }
   ],
   "source": [
    "# Delete the 'Phone' column since it has too many missing values\n",
    "del df['Phone']\n",
    "\n",
    "# Drop rows that still have missing values\n",
    "df_cleaned = df.dropna()\n",
    "print(\"\\nAfter Cleanup:\")\n",
    "print(df_cleaned)\n"
   ]
  },
  {
   "cell_type": "markdown",
   "id": "c35462f8",
   "metadata": {},
   "source": [
    "After approach: I first delete the 'Phone' column since it has 3 missing data. Then, I use dropna() to delete the remaining rows which still have missing data."
   ]
  },
  {
   "cell_type": "markdown",
   "id": "95d9d161",
   "metadata": {},
   "source": [
    "Transcript with Chatgpt--https://chatgpt.com/c/66e0c739-0434-800a-bed0-116c2cafb018"
   ]
  }
 ],
 "metadata": {
  "kernelspec": {
   "display_name": "Python 3 (ipykernel)",
   "language": "python",
   "name": "python3"
  },
  "language_info": {
   "codemirror_mode": {
    "name": "ipython",
    "version": 3
   },
   "file_extension": ".py",
   "mimetype": "text/x-python",
   "name": "python",
   "nbconvert_exporter": "python",
   "pygments_lexer": "ipython3",
   "version": "3.11.6"
  }
 },
 "nbformat": 4,
 "nbformat_minor": 5
}

{
 "cells": [
  {
   "cell_type": "code",
   "execution_count": 1,
   "id": "04ddc62b",
   "metadata": {},
   "outputs": [
    {
     "name": "stdout",
     "output_type": "stream",
     "text": [
      "Dataset shape (rows, columns): (891, 15)\n",
      "\n",
      "All columns in the dataset:\n",
      "Index(['survived', 'pclass', 'sex', 'age', 'sibsp', 'parch', 'fare',\n",
      "       'embarked', 'class', 'who', 'adult_male', 'deck', 'embark_town',\n",
      "       'alive', 'alone'],\n",
      "      dtype='object')\n",
      "\n",
      "Description of numeric columns:\n",
      "         survived      pclass         age       sibsp       parch        fare\n",
      "count  891.000000  891.000000  714.000000  891.000000  891.000000  891.000000\n",
      "mean     0.383838    2.308642   29.699118    0.523008    0.381594   32.204208\n",
      "std      0.486592    0.836071   14.526497    1.102743    0.806057   49.693429\n",
      "min      0.000000    1.000000    0.420000    0.000000    0.000000    0.000000\n",
      "25%      0.000000    2.000000   20.125000    0.000000    0.000000    7.910400\n",
      "50%      0.000000    3.000000   28.000000    0.000000    0.000000   14.454200\n",
      "75%      1.000000    3.000000   38.000000    1.000000    0.000000   31.000000\n",
      "max      1.000000    3.000000   80.000000    8.000000    6.000000  512.329200\n",
      "\n",
      "Missing values in each column:\n",
      "survived         0\n",
      "pclass           0\n",
      "sex              0\n",
      "age            177\n",
      "sibsp            0\n",
      "parch            0\n",
      "fare             0\n",
      "embarked         2\n",
      "class            0\n",
      "who              0\n",
      "adult_male       0\n",
      "deck           688\n",
      "embark_town      2\n",
      "alive            0\n",
      "alone            0\n",
      "dtype: int64\n",
      "\n",
      "Columns analyzed by df.describe():\n",
      "Index(['survived', 'pclass', 'age', 'sibsp', 'parch', 'fare'], dtype='object')\n"
     ]
    }
   ],
   "source": [
    "import pandas as pd\n",
    "\n",
    "# Load your dataset (use the correct path or URL)\n",
    "url = \"https://raw.githubusercontent.com/mwaskom/seaborn-data/master/titanic.csv\"\n",
    "df = pd.read_csv(url)\n",
    "\n",
    "# Check the shape of the dataset (rows, columns)\n",
    "print(\"Dataset shape (rows, columns):\", df.shape)\n",
    "\n",
    "# Check the columns in the dataset\n",
    "print(\"\\nAll columns in the dataset:\")\n",
    "print(df.columns)\n",
    "\n",
    "# Describe the dataset to analyze only the numeric columns\n",
    "print(\"\\nDescription of numeric columns:\")\n",
    "print(df.describe())\n",
    "\n",
    "# Check for missing values in the dataset\n",
    "print(\"\\nMissing values in each column:\")\n",
    "print(df.isna().sum())\n",
    "\n",
    "# Get the count of numeric columns (automatically filtered in df.describe())\n",
    "print(\"\\nColumns analyzed by df.describe():\")\n",
    "print(df.describe().columns)\n"
   ]
  },
  {
   "cell_type": "markdown",
   "id": "823324ff",
   "metadata": {},
   "source": [
    "Transcript with Chatgpt--https://chatgpt.com/c/66df5132-814c-800a-9b2b-6bd14e08e2bd"
   ]
  }
 ],
 "metadata": {
  "kernelspec": {
   "display_name": "Python 3 (ipykernel)",
   "language": "python",
   "name": "python3"
  },
  "language_info": {
   "codemirror_mode": {
    "name": "ipython",
    "version": 3
   },
   "file_extension": ".py",
   "mimetype": "text/x-python",
   "name": "python",
   "nbconvert_exporter": "python",
   "pygments_lexer": "ipython3",
   "version": "3.11.6"
  }
 },
 "nbformat": 4,
 "nbformat_minor": 5
}
